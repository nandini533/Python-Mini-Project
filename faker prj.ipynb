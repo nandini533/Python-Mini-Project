{
 "cells": [
  {
   "cell_type": "code",
   "execution_count": 7,
   "id": "517f87cf-68c3-4cf5-906d-0704fffb3a30",
   "metadata": {},
   "outputs": [
    {
     "name": "stdout",
     "output_type": "stream",
     "text": [
      "Collecting faker\n",
      "  Downloading faker-37.0.0-py3-none-any.whl.metadata (15 kB)\n",
      "Requirement already satisfied: tzdata in c:\\users\\admin\\anaconda3\\lib\\site-packages (from faker) (2023.3)\n",
      "Downloading faker-37.0.0-py3-none-any.whl (1.9 MB)\n",
      "   ---------------------------------------- 0.0/1.9 MB ? eta -:--:--\n",
      "   -------------------------------- ------- 1.6/1.9 MB 8.3 MB/s eta 0:00:01\n",
      "   ---------------------------------------- 1.9/1.9 MB 6.2 MB/s eta 0:00:00\n",
      "Installing collected packages: faker\n",
      "Successfully installed faker-37.0.0\n"
     ]
    }
   ],
   "source": [
    "!pip install faker"
   ]
  },
  {
   "cell_type": "code",
   "execution_count": 8,
   "id": "22d252af-d204-4235-975a-79588f6e66fc",
   "metadata": {},
   "outputs": [
    {
     "name": "stdout",
     "output_type": "stream",
     "text": [
      "                Name                                            Address  \\\n",
      "0    Brandon Leonard           24891 Hurst Manor\\nMartinville, ME 64449   \n",
      "1      Sarah Gardner  66393 James Curve Apt. 284\\nEast Laurenchester...   \n",
      "2          Kim Solis       09489 Morgan Fields\\nWilsonchester, GA 13032   \n",
      "3         Kelly Cook         5642 Damon Rest\\nChristopherbury, AS 81958   \n",
      "4  Christine Watkins  41010 Tyler Club Suite 498\\nVelazqueztown, AS ...   \n",
      "\n",
      "         Date  \n",
      "0  2000-10-21  \n",
      "1  1974-08-24  \n",
      "2  2021-06-12  \n",
      "3  1993-06-13  \n",
      "4  1982-05-31  \n"
     ]
    }
   ],
   "source": [
    "from faker import Faker\n",
    "import pandas as pd\n",
    "\n",
    "# Initialize Faker\n",
    "fake = Faker()\n",
    "\n",
    "# Generate 100 rows of fake data\n",
    "data = {\n",
    "    \"Name\": [fake.name() for _ in range(100)],\n",
    "    \"Address\": [fake.address() for _ in range(100)],\n",
    "    \"Date\": [fake.date() for _ in range(100)]\n",
    "}\n",
    "\n",
    "# Create a DataFrame\n",
    "df = pd.DataFrame(data)\n",
    "\n",
    "# Save to CSV (optional)\n",
    "df.to_csv(\"amazon_delivery.csv\", index=False)\n",
    "\n",
    "# Display the first 5 rows\n",
    "print(df.head())"
   ]
  },
  {
   "cell_type": "code",
   "execution_count": 11,
   "id": "ab9c0830-d31c-4a3b-88cd-3be91fb5b64b",
   "metadata": {},
   "outputs": [
    {
     "name": "stdout",
     "output_type": "stream",
     "text": [
      "                    Name\n",
      "0             Brian Hall\n",
      "1        Richard Vasquez\n",
      "2          Kenneth Blake\n",
      "3          Heather Jones\n",
      "4            Jose Knight\n",
      "5             Mary Myers\n",
      "6          Mallory Davis\n",
      "7            Judith Bell\n",
      "8             Lisa Perry\n",
      "9           Kevin Moreno\n",
      "10        Nichole Zuniga\n",
      "11  Christopher Williams\n",
      "12         Jacob Andrews\n",
      "13          Carrie Ayers\n",
      "14        Brandon Berger\n",
      "15        John Rodriguez\n",
      "16            Karen King\n",
      "17          Mark Elliott\n",
      "18        Christina Soto\n",
      "19           Maria Olsen\n"
     ]
    }
   ],
   "source": [
    "fake = Faker()\n",
    "\n",
    "df = pd.DataFrame({\"Name\": [fake.name() for _ in range(20)]})\n",
    "\n",
    "print(df)"
   ]
  },
  {
   "cell_type": "code",
   "execution_count": 13,
   "id": "01138263-5ea2-4927-baa4-3d4704917e56",
   "metadata": {},
   "outputs": [
    {
     "name": "stdout",
     "output_type": "stream",
     "text": [
      "                           Email\n",
      "0       patelbrandon@example.com\n",
      "1        cassandra06@example.org\n",
      "2          kristin41@example.org\n",
      "3         nschneider@example.org\n",
      "4         blairdiana@example.net\n",
      "5           walter06@example.net\n",
      "6            haley59@example.net\n",
      "7   madisonmacdonald@example.net\n",
      "8     robinsonsherry@example.com\n",
      "9          lisawhite@example.org\n",
      "10          carlos38@example.net\n",
      "11          vallison@example.com\n",
      "12           gmorris@example.net\n",
      "13            amills@example.com\n",
      "14     ericalexander@example.com\n",
      "15       billshields@example.net\n",
      "16        debrabates@example.com\n",
      "17     annahernandez@example.org\n",
      "18      williamevans@example.com\n",
      "19     laurenbarnett@example.org\n"
     ]
    }
   ],
   "source": [
    "fake = Faker()\n",
    "\n",
    "df = pd.DataFrame({\"Email\": [fake.email() for _ in range(20)]})\n",
    "\n",
    "print(df)"
   ]
  },
  {
   "cell_type": "code",
   "execution_count": 17,
   "id": "89991a8b-59a2-42c0-a407-f4bb263a8c3f",
   "metadata": {},
   "outputs": [
    {
     "name": "stdout",
     "output_type": "stream",
     "text": [
      "  Date of Birth  Age\n",
      "0    1960-04-15   65\n",
      "1    1949-02-25   76\n",
      "2    1944-04-01   81\n",
      "3    1977-07-28   48\n",
      "4    1960-07-31   65\n",
      "5    1999-07-11   26\n",
      "6    1952-08-13   73\n",
      "7    1972-05-17   53\n",
      "8    1996-05-04   29\n",
      "9    1950-05-02   75\n"
     ]
    }
   ],
   "source": [
    "from faker import Faker\n",
    "from datetime import datetime\n",
    "import pandas as pd\n",
    "fake = Faker()\n",
    "\n",
    "# Generate fake dates of birth\n",
    "num_samples = 10  # Change this number as needed\n",
    "dob_list = [fake.date_of_birth(minimum_age=18, maximum_age=80) for _ in range(num_samples)]\n",
    "\n",
    "# Convert DOB to Age\n",
    "current_year = datetime.today().year\n",
    "ages = [current_year - dob.year for dob in dob_list]\n",
    "\n",
    "# Create DataFrame\n",
    "df = pd.DataFrame({'Date of Birth': dob_list, 'Age': ages})\n",
    "print(df)"
   ]
  },
  {
   "cell_type": "code",
   "execution_count": 21,
   "id": "d7e8c45c-c986-431e-b62c-33d9eeb99dfe",
   "metadata": {},
   "outputs": [
    {
     "data": {
      "text/html": [
       "<div>\n",
       "<style scoped>\n",
       "    .dataframe tbody tr th:only-of-type {\n",
       "        vertical-align: middle;\n",
       "    }\n",
       "\n",
       "    .dataframe tbody tr th {\n",
       "        vertical-align: top;\n",
       "    }\n",
       "\n",
       "    .dataframe thead th {\n",
       "        text-align: right;\n",
       "    }\n",
       "</style>\n",
       "<table border=\"1\" class=\"dataframe\">\n",
       "  <thead>\n",
       "    <tr style=\"text-align: right;\">\n",
       "      <th></th>\n",
       "      <th>Product_Name</th>\n",
       "      <th>Price</th>\n",
       "    </tr>\n",
       "  </thead>\n",
       "  <tbody>\n",
       "    <tr>\n",
       "      <th>0</th>\n",
       "      <td>Product_1</td>\n",
       "      <td>349.53</td>\n",
       "    </tr>\n",
       "    <tr>\n",
       "      <th>1</th>\n",
       "      <td>Product_2</td>\n",
       "      <td>157.76</td>\n",
       "    </tr>\n",
       "    <tr>\n",
       "      <th>2</th>\n",
       "      <td>Product_3</td>\n",
       "      <td>272.49</td>\n",
       "    </tr>\n",
       "    <tr>\n",
       "      <th>3</th>\n",
       "      <td>Product_4</td>\n",
       "      <td>205.86</td>\n",
       "    </tr>\n",
       "    <tr>\n",
       "      <th>4</th>\n",
       "      <td>Product_5</td>\n",
       "      <td>312.85</td>\n",
       "    </tr>\n",
       "    <tr>\n",
       "      <th>5</th>\n",
       "      <td>Product_6</td>\n",
       "      <td>203.67</td>\n",
       "    </tr>\n",
       "    <tr>\n",
       "      <th>6</th>\n",
       "      <td>Product_7</td>\n",
       "      <td>183.01</td>\n",
       "    </tr>\n",
       "    <tr>\n",
       "      <th>7</th>\n",
       "      <td>Product_8</td>\n",
       "      <td>434.25</td>\n",
       "    </tr>\n",
       "    <tr>\n",
       "      <th>8</th>\n",
       "      <td>Product_9</td>\n",
       "      <td>385.82</td>\n",
       "    </tr>\n",
       "    <tr>\n",
       "      <th>9</th>\n",
       "      <td>Product_10</td>\n",
       "      <td>167.84</td>\n",
       "    </tr>\n",
       "  </tbody>\n",
       "</table>\n",
       "</div>"
      ],
      "text/plain": [
       "  Product_Name   Price\n",
       "0    Product_1  349.53\n",
       "1    Product_2  157.76\n",
       "2    Product_3  272.49\n",
       "3    Product_4  205.86\n",
       "4    Product_5  312.85\n",
       "5    Product_6  203.67\n",
       "6    Product_7  183.01\n",
       "7    Product_8  434.25\n",
       "8    Product_9  385.82\n",
       "9   Product_10  167.84"
      ]
     },
     "execution_count": 21,
     "metadata": {},
     "output_type": "execute_result"
    }
   ],
   "source": [
    "import random\n",
    "# Generate fake product names\n",
    "product_names = [f'Product_{i}' for i in range(1, 11)]  # 10 fake product names\n",
    "prices = [round(random.uniform(10, 500), 2) for _ in range(10)]  # Random prices between 10 and 500\n",
    "\n",
    "# Create DataFrame\n",
    "df = pd.DataFrame({'Product_Name': product_names, 'Price': prices})\n",
    "\n",
    "# Display DataFrame\n",
    "df"
   ]
  },
  {
   "cell_type": "code",
   "execution_count": 23,
   "id": "9dc4c420-4495-47b4-9357-fad94c05ca34",
   "metadata": {},
   "outputs": [
    {
     "data": {
      "text/html": [
       "<div>\n",
       "<style scoped>\n",
       "    .dataframe tbody tr th:only-of-type {\n",
       "        vertical-align: middle;\n",
       "    }\n",
       "\n",
       "    .dataframe tbody tr th {\n",
       "        vertical-align: top;\n",
       "    }\n",
       "\n",
       "    .dataframe thead th {\n",
       "        text-align: right;\n",
       "    }\n",
       "</style>\n",
       "<table border=\"1\" class=\"dataframe\">\n",
       "  <thead>\n",
       "    <tr style=\"text-align: right;\">\n",
       "      <th></th>\n",
       "      <th>Name</th>\n",
       "      <th>City</th>\n",
       "      <th>Phone Number</th>\n",
       "    </tr>\n",
       "  </thead>\n",
       "  <tbody>\n",
       "    <tr>\n",
       "      <th>0</th>\n",
       "      <td>Rebecca Hernandez</td>\n",
       "      <td>Patelshire</td>\n",
       "      <td>434-363-9746x90303</td>\n",
       "    </tr>\n",
       "    <tr>\n",
       "      <th>1</th>\n",
       "      <td>Matthew Ramirez</td>\n",
       "      <td>New Chris</td>\n",
       "      <td>957-288-8433x36149</td>\n",
       "    </tr>\n",
       "    <tr>\n",
       "      <th>2</th>\n",
       "      <td>Michael Smith</td>\n",
       "      <td>North Melissa</td>\n",
       "      <td>484-723-5528</td>\n",
       "    </tr>\n",
       "    <tr>\n",
       "      <th>3</th>\n",
       "      <td>Lisa Jones</td>\n",
       "      <td>Dianastad</td>\n",
       "      <td>(212)482-4869x99867</td>\n",
       "    </tr>\n",
       "    <tr>\n",
       "      <th>4</th>\n",
       "      <td>Madeline Griffin</td>\n",
       "      <td>Lake Markbury</td>\n",
       "      <td>(714)975-1328x3676</td>\n",
       "    </tr>\n",
       "    <tr>\n",
       "      <th>5</th>\n",
       "      <td>Brenda Zhang</td>\n",
       "      <td>New Georgestad</td>\n",
       "      <td>557.308.6851x4983</td>\n",
       "    </tr>\n",
       "    <tr>\n",
       "      <th>6</th>\n",
       "      <td>Randy Orozco</td>\n",
       "      <td>East Jamesfort</td>\n",
       "      <td>+1-427-362-3403x866</td>\n",
       "    </tr>\n",
       "    <tr>\n",
       "      <th>7</th>\n",
       "      <td>John House</td>\n",
       "      <td>Smithfort</td>\n",
       "      <td>662-749-9391x5669</td>\n",
       "    </tr>\n",
       "    <tr>\n",
       "      <th>8</th>\n",
       "      <td>Terry Young</td>\n",
       "      <td>North Hollystad</td>\n",
       "      <td>+1-536-605-4681x4627</td>\n",
       "    </tr>\n",
       "    <tr>\n",
       "      <th>9</th>\n",
       "      <td>Daniel Hernandez</td>\n",
       "      <td>Williamsville</td>\n",
       "      <td>371.836.7438x3852</td>\n",
       "    </tr>\n",
       "  </tbody>\n",
       "</table>\n",
       "</div>"
      ],
      "text/plain": [
       "                Name             City          Phone Number\n",
       "0  Rebecca Hernandez       Patelshire    434-363-9746x90303\n",
       "1    Matthew Ramirez        New Chris    957-288-8433x36149\n",
       "2      Michael Smith    North Melissa          484-723-5528\n",
       "3         Lisa Jones        Dianastad   (212)482-4869x99867\n",
       "4   Madeline Griffin    Lake Markbury    (714)975-1328x3676\n",
       "5       Brenda Zhang   New Georgestad     557.308.6851x4983\n",
       "6       Randy Orozco   East Jamesfort   +1-427-362-3403x866\n",
       "7         John House        Smithfort     662-749-9391x5669\n",
       "8        Terry Young  North Hollystad  +1-536-605-4681x4627\n",
       "9   Daniel Hernandez    Williamsville     371.836.7438x3852"
      ]
     },
     "execution_count": 23,
     "metadata": {},
     "output_type": "execute_result"
    }
   ],
   "source": [
    "# Initialize Faker\n",
    "fake = Faker()\n",
    "\n",
    "# Generate fake data\n",
    "num_records = 10  # Adjust as needed\n",
    "data = {\n",
    "    \"Name\": [fake.name() for _ in range(num_records)],\n",
    "    \"City\": [fake.city() for _ in range(num_records)],\n",
    "    \"Phone Number\": [fake.phone_number() for _ in range(num_records)]\n",
    "}\n",
    "\n",
    "# Create DataFrame\n",
    "df = pd.DataFrame(data)\n",
    "\n",
    "# Display the DataFrame\n",
    "df\n"
   ]
  },
  {
   "cell_type": "code",
   "execution_count": 25,
   "id": "ac94d97b-3ad2-4d84-8cc4-834d07de4873",
   "metadata": {},
   "outputs": [],
   "source": [
    "                                    #MERGE : MERGING DATAFRAME "
   ]
  },
  {
   "cell_type": "code",
   "execution_count": 31,
   "id": "0b41a15e-c15f-4c83-a0bf-9423b1e25c67",
   "metadata": {},
   "outputs": [
    {
     "name": "stdout",
     "output_type": "stream",
     "text": [
      "   Product_ID  Price  Stock\n",
      "0           1    100     10\n",
      "1           2    200     20\n"
     ]
    }
   ],
   "source": [
    "\n",
    "# Sample DataFrames\n",
    "df1 = pd.DataFrame({'Product_ID': [1, 2, 3], 'Price': [100, 200, 300]})\n",
    "df2 = pd.DataFrame({'Product_ID': [1, 2, 4], 'Stock': [10, 20, 30]})\n",
    "\n",
    "# Merge on 'Product_ID'\n",
    "merged_df = pd.merge(df1, df2, on='Product_ID', how='inner')\n",
    "\n",
    "# Display result\n",
    "print(merged_df)"
   ]
  },
  {
   "cell_type": "code",
   "execution_count": 33,
   "id": "e490351a-2e81-48f9-8d2b-1f8eb68b2239",
   "metadata": {},
   "outputs": [
    {
     "name": "stdout",
     "output_type": "stream",
     "text": [
      "   Employee_ID     Name   Salary\n",
      "0            1    Alice      NaN\n",
      "1            2      Bob  50000.0\n",
      "2            3  Charlie  60000.0\n"
     ]
    }
   ],
   "source": [
    "df1 = pd.DataFrame({'Employee_ID': [1, 2, 3], 'Name': ['Alice', 'Bob', 'Charlie']})\n",
    "df2 = pd.DataFrame({'Employee_ID': [2, 3, 4], 'Salary': [50000, 60000, 70000]})\n",
    "\n",
    "# Left Join\n",
    "merged_df = df1.merge(df2, on='Employee_ID', how='left')\n",
    "\n",
    "# Display result\n",
    "print(merged_df)"
   ]
  },
  {
   "cell_type": "code",
   "execution_count": 35,
   "id": "7bc945f0-59f6-4c38-ab82-7a202595b621",
   "metadata": {},
   "outputs": [
    {
     "data": {
      "text/html": [
       "<div>\n",
       "<style scoped>\n",
       "    .dataframe tbody tr th:only-of-type {\n",
       "        vertical-align: middle;\n",
       "    }\n",
       "\n",
       "    .dataframe tbody tr th {\n",
       "        vertical-align: top;\n",
       "    }\n",
       "\n",
       "    .dataframe thead th {\n",
       "        text-align: right;\n",
       "    }\n",
       "</style>\n",
       "<table border=\"1\" class=\"dataframe\">\n",
       "  <thead>\n",
       "    <tr style=\"text-align: right;\">\n",
       "      <th></th>\n",
       "      <th>ID</th>\n",
       "      <th>Name</th>\n",
       "      <th>Age</th>\n",
       "    </tr>\n",
       "  </thead>\n",
       "  <tbody>\n",
       "    <tr>\n",
       "      <th>0</th>\n",
       "      <td>1</td>\n",
       "      <td>Alice</td>\n",
       "      <td>NaN</td>\n",
       "    </tr>\n",
       "    <tr>\n",
       "      <th>1</th>\n",
       "      <td>2</td>\n",
       "      <td>Bob</td>\n",
       "      <td>25.0</td>\n",
       "    </tr>\n",
       "    <tr>\n",
       "      <th>2</th>\n",
       "      <td>3</td>\n",
       "      <td>Charlie</td>\n",
       "      <td>30.0</td>\n",
       "    </tr>\n",
       "  </tbody>\n",
       "</table>\n",
       "</div>"
      ],
      "text/plain": [
       "   ID     Name   Age\n",
       "0   1    Alice   NaN\n",
       "1   2      Bob  25.0\n",
       "2   3  Charlie  30.0"
      ]
     },
     "execution_count": 35,
     "metadata": {},
     "output_type": "execute_result"
    }
   ],
   "source": [
    "df1 = pd.DataFrame({'ID': [1, 2, 3], 'Name': ['Alice', 'Bob', 'Charlie']})\n",
    "df2 = pd.DataFrame({'ID': [2, 3, 4], 'Age': [25, 30, 35]})\n",
    "\n",
    "# Left join\n",
    "merged_df = df1.merge(df2, on='ID', how='left')\n",
    "\n",
    "# Display result\n",
    "merged_df"
   ]
  },
  {
   "cell_type": "code",
   "execution_count": 39,
   "id": "552bb33f-fd5c-4e1f-8e7a-deac385a6bd2",
   "metadata": {},
   "outputs": [
    {
     "name": "stdout",
     "output_type": "stream",
     "text": [
      "          City  Age  Salary Department\n",
      "0     New York   25   50000         IT\n",
      "1  Los Angeles   30   60000         HR\n",
      "2      Chicago   35   70000    Finance\n"
     ]
    }
   ],
   "source": [
    "df1 = pd.DataFrame({'City': ['New York', 'Los Angeles', 'Chicago'], 'Age': [25, 30, 35], 'Salary': [50000, 60000, 70000]})\n",
    "df2 = pd.DataFrame({'City': ['New York', 'Los Angeles', 'Chicago'], 'Age': [25, 30, 35], 'Department': ['IT', 'HR', 'Finance']})\n",
    "\n",
    "# Merging on multiple columns\n",
    "merged_df = pd.merge(df1, df2, on=['City', 'Age'])\n",
    "\n",
    "# Display result\n",
    "print(merged_df)"
   ]
  },
  {
   "cell_type": "code",
   "execution_count": 41,
   "id": "c17df962-f926-46c9-b13f-690ca91362de",
   "metadata": {},
   "outputs": [
    {
     "name": "stdout",
     "output_type": "stream",
     "text": [
      "  Country  Population   GDP\n",
      "0     USA         331  21.4\n",
      "1   India        1380   2.9\n"
     ]
    }
   ],
   "source": [
    "# Sample DataFrames\n",
    "df1 = pd.DataFrame({'Country': ['USA', 'Canada', 'India'], 'Population': [331, 38, 1380]})\n",
    "df2 = pd.DataFrame({'Country': ['USA', 'India', 'UK'], 'GDP': [21.4, 2.9, 2.7]})\n",
    "\n",
    "# Inner Join on 'Country'\n",
    "merged_df = pd.merge(df1, df2, on='Country', how='inner')\n",
    "\n",
    "# Display result\n",
    "print(merged_df)"
   ]
  },
  {
   "cell_type": "code",
   "execution_count": 43,
   "id": "d992171f-e4d8-4f87-9da3-8028e29a295a",
   "metadata": {},
   "outputs": [
    {
     "data": {
      "text/html": [
       "<div>\n",
       "<style scoped>\n",
       "    .dataframe tbody tr th:only-of-type {\n",
       "        vertical-align: middle;\n",
       "    }\n",
       "\n",
       "    .dataframe tbody tr th {\n",
       "        vertical-align: top;\n",
       "    }\n",
       "\n",
       "    .dataframe thead th {\n",
       "        text-align: right;\n",
       "    }\n",
       "</style>\n",
       "<table border=\"1\" class=\"dataframe\">\n",
       "  <thead>\n",
       "    <tr style=\"text-align: right;\">\n",
       "      <th></th>\n",
       "      <th>ID</th>\n",
       "      <th>Name</th>\n",
       "      <th>Score</th>\n",
       "    </tr>\n",
       "  </thead>\n",
       "  <tbody>\n",
       "    <tr>\n",
       "      <th>0</th>\n",
       "      <td>1</td>\n",
       "      <td>Alice</td>\n",
       "      <td>NaN</td>\n",
       "    </tr>\n",
       "    <tr>\n",
       "      <th>1</th>\n",
       "      <td>2</td>\n",
       "      <td>Bob</td>\n",
       "      <td>85.0</td>\n",
       "    </tr>\n",
       "    <tr>\n",
       "      <th>2</th>\n",
       "      <td>3</td>\n",
       "      <td>Charlie</td>\n",
       "      <td>90.0</td>\n",
       "    </tr>\n",
       "  </tbody>\n",
       "</table>\n",
       "</div>"
      ],
      "text/plain": [
       "   ID     Name  Score\n",
       "0   1    Alice    NaN\n",
       "1   2      Bob   85.0\n",
       "2   3  Charlie   90.0"
      ]
     },
     "execution_count": 43,
     "metadata": {},
     "output_type": "execute_result"
    }
   ],
   "source": [
    "df1 = pd.DataFrame({'ID': [1, 2, 3], 'Name': ['Alice', 'Bob', 'Charlie']})\n",
    "df2 = pd.DataFrame({'ID': [2, 3, 4], 'Score': [85, 90, 78]})\n",
    "\n",
    "# Merging DataFrames (Left Join)\n",
    "merged_df = df1.merge(df2, on='ID', how='left')\n",
    "\n",
    "# Display result\n",
    "merged_df"
   ]
  },
  {
   "cell_type": "code",
   "execution_count": null,
   "id": "1e4aee3d-0f91-4fe6-ad78-c96cd13f9e4a",
   "metadata": {},
   "outputs": [],
   "source": []
  }
 ],
 "metadata": {
  "kernelspec": {
   "display_name": "Python [conda env:base] *",
   "language": "python",
   "name": "conda-base-py"
  },
  "language_info": {
   "codemirror_mode": {
    "name": "ipython",
    "version": 3
   },
   "file_extension": ".py",
   "mimetype": "text/x-python",
   "name": "python",
   "nbconvert_exporter": "python",
   "pygments_lexer": "ipython3",
   "version": "3.12.7"
  }
 },
 "nbformat": 4,
 "nbformat_minor": 5
}
